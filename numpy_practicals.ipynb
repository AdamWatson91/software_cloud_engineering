{
 "cells": [
  {
   "cell_type": "markdown",
   "metadata": {},
   "source": [
    "Fancy indexing"
   ]
  },
  {
   "cell_type": "code",
   "execution_count": 44,
   "metadata": {},
   "outputs": [
    {
     "name": "stdout",
     "output_type": "stream",
     "text": [
      "[[ 1 70 77 61 86 69]\n",
      " [ 2 68 63 98 45  0]\n",
      " [10 75 95  1 86 90]\n",
      " [98 57 40 62 38 48]]\n",
      "The first row in the second column is 75\n",
      "[364 276 357 343]\n",
      "The rows in the array that sum up to an even number are  [[ 1 70 77 61 86 69]\n",
      " [ 2 68 63 98 45  0]]\n",
      "[111 270 275 222 255 207]\n",
      "The columns in the array that sum up to an odds number are  [[ 1 77 86 69]\n",
      " [ 2 63 45  0]\n",
      " [10 95 86 90]\n",
      " [98 40 38 48]]\n",
      "There is no part of the array with even rows and odd columns\n",
      "The diagnoal index is [ 1 68 95 62]\n"
     ]
    }
   ],
   "source": [
    "import numpy as np\n",
    "\n",
    "# Create a matrix of random numbers with 4 rows and 6 columns\n",
    "first_array = np.random.randint(100, size=(4,6))\n",
    "print(first_array)\n",
    "# Index the element on the 3rd row, 2nd col\n",
    "print(f'The first row in the second column is {first_array[2,1]}')\n",
    "# Index all of the even rows\n",
    "#even_array = first_array[first_array % 2 == 0]\n",
    "sum_rows = first_array.sum(axis=-1)\n",
    "even_rows = first_array[sum_rows % 2 == 0]\n",
    "\n",
    "# print(f'The even numbers in the first array are {even_array}')\n",
    "\n",
    "print(sum_rows)\n",
    "print(f'The rows in the array that sum up to an even number are  {even_rows}')\n",
    "\n",
    "# Index all of the elements on even rows and odd columns\n",
    "sum_col = first_array.sum(axis=0)\n",
    "odd_col = first_array[:,sum_col % 2 != 0]\n",
    "print(sum_col)\n",
    "print(f'The columns in the array that sum up to an odds number are  {odd_col}')\n",
    "try:\n",
    "    even_row_and_odd_col = first_array[sum_rows % 2 == 0, sum_col % 2 != 0]\n",
    "    print(f'The data with odd cols and even rows only are {even_row_and_odd_col}')\n",
    "except:\n",
    "    print(f'There is no part of the array with even rows and odd columns')\n",
    "\n",
    "# Index the elements along the diagonal\n",
    "diag_index = np.diagonal(first_array)\n",
    "print(f'The diagnoal index is {diag_index}')"
   ]
  },
  {
   "cell_type": "markdown",
   "metadata": {},
   "source": [
    "Broadcasting"
   ]
  },
  {
   "cell_type": "code",
   "execution_count": 71,
   "metadata": {},
   "outputs": [
    {
     "name": "stdout",
     "output_type": "stream",
     "text": [
      "[[0 0 1 0 0]\n",
      " [1 0 1 1 1]\n",
      " [0 1 0 0 0]\n",
      " [1 0 1 1 1]\n",
      " [0 1 0 1 0]\n",
      " [0 0 1 1 1]\n",
      " [0 0 1 0 1]\n",
      " [1 1 0 0 1]\n",
      " [0 0 1 0 1]\n",
      " [0 1 1 1 0]\n",
      " [1 0 0 1 1]\n",
      " [1 1 0 0 0]\n",
      " [0 1 0 0 1]\n",
      " [1 1 0 0 1]\n",
      " [1 1 0 1 1]\n",
      " [0 1 1 0 0]]\n",
      "(16, 5)\n",
      "16\n",
      "5\n"
     ]
    },
    {
     "data": {
      "text/plain": [
       "array([[2, 0, 3, 5, 0, 4, 3, 0, 2, 3, 4, 0, 4, 4, 2, 1]])"
      ]
     },
     "execution_count": 71,
     "metadata": {},
     "output_type": "execute_result"
    }
   ],
   "source": [
    "import random\n",
    "# Create a random matrix of binary values (0, 1)\n",
    "second_array = np.random.randint(2, size=(random.randint(1,20),random.randint(1,20)))\n",
    "print(second_array)\n",
    "# Create a vector with as many rows as the matrix containing random positive integers between 1 and 5\n",
    "rows, colunms = np.shape(second_array)\n",
    "print(np.shape(second_array))\n",
    "print(rows)\n",
    "print(colunms)\n",
    "np.random.randint(6,size=rows).reshape(-1,rows)\n",
    "# Add the vector to every column using broadcasting\n",
    "# Create a new matrix by multiplying the columns of the original by the vector\n",
    "# Create a new matrix by multiplying every element by a scalar value"
   ]
  }
 ],
 "metadata": {
  "interpreter": {
   "hash": "e7d345094e04eb8e66724381b7ce8d73e0b94fcbd82fe458d779ff1fd293c302"
  },
  "kernelspec": {
   "display_name": "Python 3.9.7 ('data_formats')",
   "language": "python",
   "name": "python3"
  },
  "language_info": {
   "codemirror_mode": {
    "name": "ipython",
    "version": 3
   },
   "file_extension": ".py",
   "mimetype": "text/x-python",
   "name": "python",
   "nbconvert_exporter": "python",
   "pygments_lexer": "ipython3",
   "version": "3.9.7"
  },
  "orig_nbformat": 4
 },
 "nbformat": 4,
 "nbformat_minor": 2
}
