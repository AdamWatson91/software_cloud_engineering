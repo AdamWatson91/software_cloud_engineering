{
 "cells": [
  {
   "cell_type": "markdown",
   "metadata": {},
   "source": [
    "Fancy indexing"
   ]
  },
  {
   "cell_type": "code",
   "execution_count": 4,
   "metadata": {},
   "outputs": [
    {
     "name": "stdout",
     "output_type": "stream",
     "text": [
      "[[94 72 85 76 71 81]\n",
      " [78 83 10 41 82 82]\n",
      " [92 56 49 21 57 42]\n",
      " [49 62 10  3 24 45]]\n",
      "The first row in the second column is 56\n",
      "[479 376 317 193]\n",
      "The rows in the array that sum up to an even number are  [[78 83 10 41 82 82]]\n",
      "[313 273 154 141 234 250]\n",
      "The columns in the array that sum up to an odds number are  [[94 72 76]\n",
      " [78 83 41]\n",
      " [92 56 21]\n",
      " [49 62  3]]\n",
      "The data with odd cols and even rows only are [78 83 41]\n",
      "The diagnoal index is [94 83 49  3]\n"
     ]
    }
   ],
   "source": [
    "import numpy as np\n",
    "\n",
    "# Create a matrix of random numbers with 4 rows and 6 columns\n",
    "first_array = np.random.randint(100, size=(4,6))\n",
    "print(first_array)\n",
    "# Index the element on the 3rd row, 2nd col\n",
    "print(f'The first row in the second column is {first_array[2,1]}')\n",
    "# Index all of the even rows\n",
    "#even_array = first_array[first_array % 2 == 0]\n",
    "sum_rows = first_array.sum(axis=-1)\n",
    "even_rows = first_array[sum_rows % 2 == 0]\n",
    "\n",
    "# print(f'The even numbers in the first array are {even_array}')\n",
    "\n",
    "print(sum_rows)\n",
    "print(f'The rows in the array that sum up to an even number are  {even_rows}')\n",
    "\n",
    "# Index all of the elements on even rows and odd columns\n",
    "sum_col = first_array.sum(axis=0)\n",
    "odd_col = first_array[:,sum_col % 2 != 0]\n",
    "print(sum_col)\n",
    "print(f'The columns in the array that sum up to an odds number are  {odd_col}')\n",
    "try:\n",
    "    even_row_and_odd_col = first_array[sum_rows % 2 == 0, sum_col % 2 != 0]\n",
    "    print(f'The data with odd cols and even rows only are {even_row_and_odd_col}')\n",
    "except:\n",
    "    print(f'There is no part of the array with even rows and odd columns')\n",
    "\n",
    "# Index the elements along the diagonal\n",
    "diag_index = np.diagonal(first_array)\n",
    "print(f'The diagnoal index is {diag_index}')"
   ]
  },
  {
   "cell_type": "markdown",
   "metadata": {},
   "source": [
    "Broadcasting"
   ]
  },
  {
   "cell_type": "code",
   "execution_count": 80,
   "metadata": {},
   "outputs": [
    {
     "name": "stdout",
     "output_type": "stream",
     "text": [
      "[[1]\n",
      " [0]\n",
      " [1]]\n",
      "[[3]\n",
      " [0]\n",
      " [4]]\n",
      "[[1]\n",
      " [0]\n",
      " [1]]\n",
      "[[3]\n",
      " [0]\n",
      " [4]]\n",
      "[[2]\n",
      " [0]\n",
      " [2]]\n"
     ]
    }
   ],
   "source": [
    "import random\n",
    "# Create a random matrix of binary values (0, 1)\n",
    "second_array = np.random.randint(2, size=(random.randint(1,5),random.randint(1,5)))\n",
    "print(second_array)\n",
    "# Create a vector with as many rows as the matrix containing random positive integers between 1 and 5\n",
    "rows, colunms = np.shape(second_array)\n",
    "vector = np.random.randint(6,size=rows).reshape(rows,1) # This doesnt work because it reshapes\n",
    "print(vector)\n",
    "# Add the vector to every column using broadcasting\n",
    "second_array + vector\n",
    "print(second_array)\n",
    "# Create a new matrix by multiplying the columns of the original by the vector\n",
    "new_matrix = second_array * vector\n",
    "print(new_matrix)\n",
    "# Create a new matrix by multiplying every element by a scalar value\n",
    "matrix_scalar = second_array * 2\n",
    "print(matrix_scalar)"
   ]
  }
 ],
 "metadata": {
  "interpreter": {
   "hash": "e7d345094e04eb8e66724381b7ce8d73e0b94fcbd82fe458d779ff1fd293c302"
  },
  "kernelspec": {
   "display_name": "Python 3.9.7 ('data_formats')",
   "language": "python",
   "name": "python3"
  },
  "language_info": {
   "codemirror_mode": {
    "name": "ipython",
    "version": 3
   },
   "file_extension": ".py",
   "mimetype": "text/x-python",
   "name": "python",
   "nbconvert_exporter": "python",
   "pygments_lexer": "ipython3",
   "version": "3.9.7"
  },
  "orig_nbformat": 4
 },
 "nbformat": 4,
 "nbformat_minor": 2
}
