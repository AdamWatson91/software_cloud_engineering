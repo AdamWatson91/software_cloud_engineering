{
 "cells": [
  {
   "cell_type": "code",
   "execution_count": 58,
   "metadata": {},
   "outputs": [],
   "source": [
    "class Temperature:\n",
    "    \"\"\"\n",
    "\n",
    "    \"\"\"\n",
    "    def __init__(self, temp_c:float):\n",
    "        self.temp_c = temp_c\n",
    "    \n",
    "    def convert_tempc_to_tempf(self):\n",
    "        temp_f = (self.temp_c * 1.8) + 32\n",
    "        return temp_f\n",
    "    \n",
    "    @staticmethod\n",
    "    def convert_tempf_to_tempc(temp_f):\n",
    "        temp_c = (temp_f - 32) * (5/9)\n",
    "        return temp_c\n",
    "\n",
    "    @staticmethod\n",
    "    def check_valid_temp(temp):\n",
    "        if temp > -273 and temp < 3000:\n",
    "            print(\"This is a valid temp\")\n",
    "        else:\n",
    "            print(\"This is NOT a valid temp\")\n",
    "    \n",
    "    @classmethod\n",
    "    def temp_f(cls, temp_f):\n",
    "        temp_c = cls.convert_tempf_to_tempc(temp_f)\n",
    "        return cls(temp_c)\n",
    "    \n",
    "    @classmethod\n",
    "    def standard(cls):\n",
    "        cls = 0\n",
    "        return cls\n",
    "        "
   ]
  },
  {
   "cell_type": "code",
   "execution_count": 63,
   "metadata": {},
   "outputs": [
    {
     "name": "stdout",
     "output_type": "stream",
     "text": [
      "41.0\n",
      "-12.222222222222223\n",
      "This is NOT a valid temp\n",
      "None\n",
      "<bound method Temperature.standard of <class '__main__.Temperature'>>\n"
     ]
    }
   ],
   "source": [
    "c = Temperature(5)\n",
    "print(c.convert_tempc_to_tempf())\n",
    "print(Temperature.convert_tempf_to_tempc(10))\n",
    "print(Temperature.check_valid_temp(100000))\n",
    "d = Temperature.temp_f(10)\n",
    "e = Temperature.standard\n",
    "\n"
   ]
  }
 ],
 "metadata": {
  "interpreter": {
   "hash": "350b003f6c899f947fa590b83a4588a285a0ee527869f50b2f784c456d7d3fc3"
  },
  "kernelspec": {
   "display_name": "Python 3.9.5 ('base')",
   "language": "python",
   "name": "python3"
  },
  "language_info": {
   "codemirror_mode": {
    "name": "ipython",
    "version": 3
   },
   "file_extension": ".py",
   "mimetype": "text/x-python",
   "name": "python",
   "nbconvert_exporter": "python",
   "pygments_lexer": "ipython3",
   "version": "3.9.5"
  },
  "orig_nbformat": 4
 },
 "nbformat": 4,
 "nbformat_minor": 2
}
